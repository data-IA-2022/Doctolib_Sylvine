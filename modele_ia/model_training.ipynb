{
 "cells": [
  {
   "cell_type": "markdown",
   "metadata": {},
   "source": [
    "# Entrainement d'un modèle d'IA bidon pour ajouter dans l'appli"
   ]
  },
  {
   "cell_type": "markdown",
   "metadata": {},
   "source": [
    "## Récupération des données depuis la database"
   ]
  },
  {
   "cell_type": "code",
   "execution_count": 5,
   "metadata": {},
   "outputs": [],
   "source": [
    "import sqlite3\n",
    "\n",
    "database_path = '../db.sqlite3'\n",
    "conn = sqlite3.connect(database_path)"
   ]
  },
  {
   "cell_type": "code",
   "execution_count": 6,
   "metadata": {},
   "outputs": [],
   "source": [
    "query = \"SELECT * FROM application_meddata\""
   ]
  },
  {
   "cell_type": "code",
   "execution_count": 7,
   "metadata": {},
   "outputs": [],
   "source": [
    "import pandas as pd\n",
    "\n",
    "df = pd.read_sql(query, conn)\n",
    "conn.close()"
   ]
  },
  {
   "cell_type": "code",
   "execution_count": 8,
   "metadata": {},
   "outputs": [
    {
     "data": {
      "text/html": [
       "<div>\n",
       "<style scoped>\n",
       "    .dataframe tbody tr th:only-of-type {\n",
       "        vertical-align: middle;\n",
       "    }\n",
       "\n",
       "    .dataframe tbody tr th {\n",
       "        vertical-align: top;\n",
       "    }\n",
       "\n",
       "    .dataframe thead th {\n",
       "        text-align: right;\n",
       "    }\n",
       "</style>\n",
       "<table border=\"1\" class=\"dataframe\">\n",
       "  <thead>\n",
       "    <tr style=\"text-align: right;\">\n",
       "      <th></th>\n",
       "      <th>id</th>\n",
       "      <th>date</th>\n",
       "      <th>poids</th>\n",
       "      <th>tourTaille</th>\n",
       "      <th>freqCard</th>\n",
       "      <th>systMatin</th>\n",
       "      <th>systSoir</th>\n",
       "      <th>diastMatin</th>\n",
       "      <th>diastSoir</th>\n",
       "      <th>symptCardio</th>\n",
       "      <th>...</th>\n",
       "      <th>douleurPoitrine</th>\n",
       "      <th>conflits</th>\n",
       "      <th>diffLever</th>\n",
       "      <th>sentimentHorsCtrl</th>\n",
       "      <th>diffActivite</th>\n",
       "      <th>retrait</th>\n",
       "      <th>diffEndormir</th>\n",
       "      <th>diffRemettreEvent</th>\n",
       "      <th>mainsMoites</th>\n",
       "      <th>anonymousID_id</th>\n",
       "    </tr>\n",
       "  </thead>\n",
       "  <tbody>\n",
       "    <tr>\n",
       "      <th>0</th>\n",
       "      <td>1</td>\n",
       "      <td>2023-10-02</td>\n",
       "      <td>70.5</td>\n",
       "      <td>90.2</td>\n",
       "      <td>72</td>\n",
       "      <td>120</td>\n",
       "      <td>118</td>\n",
       "      <td>78</td>\n",
       "      <td>80</td>\n",
       "      <td>Perte de connaissance</td>\n",
       "      <td>...</td>\n",
       "      <td>0</td>\n",
       "      <td>0</td>\n",
       "      <td>1</td>\n",
       "      <td>0</td>\n",
       "      <td>1</td>\n",
       "      <td>1</td>\n",
       "      <td>0</td>\n",
       "      <td>0</td>\n",
       "      <td>1</td>\n",
       "      <td>P01</td>\n",
       "    </tr>\n",
       "    <tr>\n",
       "      <th>1</th>\n",
       "      <td>2</td>\n",
       "      <td>2023-10-09</td>\n",
       "      <td>70.7</td>\n",
       "      <td>90.0</td>\n",
       "      <td>73</td>\n",
       "      <td>124</td>\n",
       "      <td>122</td>\n",
       "      <td>80</td>\n",
       "      <td>82</td>\n",
       "      <td>None</td>\n",
       "      <td>...</td>\n",
       "      <td>0</td>\n",
       "      <td>0</td>\n",
       "      <td>1</td>\n",
       "      <td>0</td>\n",
       "      <td>0</td>\n",
       "      <td>0</td>\n",
       "      <td>0</td>\n",
       "      <td>0</td>\n",
       "      <td>0</td>\n",
       "      <td>P01</td>\n",
       "    </tr>\n",
       "    <tr>\n",
       "      <th>2</th>\n",
       "      <td>3</td>\n",
       "      <td>2023-10-16</td>\n",
       "      <td>70.9</td>\n",
       "      <td>90.1</td>\n",
       "      <td>74</td>\n",
       "      <td>121</td>\n",
       "      <td>120</td>\n",
       "      <td>79</td>\n",
       "      <td>81</td>\n",
       "      <td>None</td>\n",
       "      <td>...</td>\n",
       "      <td>0</td>\n",
       "      <td>0</td>\n",
       "      <td>1</td>\n",
       "      <td>0</td>\n",
       "      <td>0</td>\n",
       "      <td>1</td>\n",
       "      <td>0</td>\n",
       "      <td>1</td>\n",
       "      <td>1</td>\n",
       "      <td>P01</td>\n",
       "    </tr>\n",
       "    <tr>\n",
       "      <th>3</th>\n",
       "      <td>4</td>\n",
       "      <td>2023-10-02</td>\n",
       "      <td>68.0</td>\n",
       "      <td>88.0</td>\n",
       "      <td>70</td>\n",
       "      <td>118</td>\n",
       "      <td>120</td>\n",
       "      <td>76</td>\n",
       "      <td>78</td>\n",
       "      <td>None</td>\n",
       "      <td>...</td>\n",
       "      <td>0</td>\n",
       "      <td>0</td>\n",
       "      <td>1</td>\n",
       "      <td>0</td>\n",
       "      <td>5</td>\n",
       "      <td>0</td>\n",
       "      <td>1</td>\n",
       "      <td>0</td>\n",
       "      <td>0</td>\n",
       "      <td>P02</td>\n",
       "    </tr>\n",
       "    <tr>\n",
       "      <th>4</th>\n",
       "      <td>5</td>\n",
       "      <td>2023-10-09</td>\n",
       "      <td>68.2</td>\n",
       "      <td>88.2</td>\n",
       "      <td>71</td>\n",
       "      <td>120</td>\n",
       "      <td>118</td>\n",
       "      <td>78</td>\n",
       "      <td>80</td>\n",
       "      <td>None</td>\n",
       "      <td>...</td>\n",
       "      <td>1</td>\n",
       "      <td>0</td>\n",
       "      <td>0</td>\n",
       "      <td>0</td>\n",
       "      <td>1</td>\n",
       "      <td>1</td>\n",
       "      <td>1</td>\n",
       "      <td>0</td>\n",
       "      <td>5</td>\n",
       "      <td>P02</td>\n",
       "    </tr>\n",
       "  </tbody>\n",
       "</table>\n",
       "<p>5 rows × 83 columns</p>\n",
       "</div>"
      ],
      "text/plain": [
       "   id        date  poids  tourTaille  freqCard  systMatin  systSoir  \\\n",
       "0   1  2023-10-02   70.5        90.2        72        120       118   \n",
       "1   2  2023-10-09   70.7        90.0        73        124       122   \n",
       "2   3  2023-10-16   70.9        90.1        74        121       120   \n",
       "3   4  2023-10-02   68.0        88.0        70        118       120   \n",
       "4   5  2023-10-09   68.2        88.2        71        120       118   \n",
       "\n",
       "   diastMatin  diastSoir            symptCardio  ...  douleurPoitrine  \\\n",
       "0          78         80  Perte de connaissance  ...                0   \n",
       "1          80         82                   None  ...                0   \n",
       "2          79         81                   None  ...                0   \n",
       "3          76         78                   None  ...                0   \n",
       "4          78         80                   None  ...                1   \n",
       "\n",
       "   conflits  diffLever  sentimentHorsCtrl  diffActivite retrait  diffEndormir  \\\n",
       "0         0          1                  0             1       1             0   \n",
       "1         0          1                  0             0       0             0   \n",
       "2         0          1                  0             0       1             0   \n",
       "3         0          1                  0             5       0             1   \n",
       "4         0          0                  0             1       1             1   \n",
       "\n",
       "   diffRemettreEvent  mainsMoites  anonymousID_id  \n",
       "0                  0            1             P01  \n",
       "1                  0            0             P01  \n",
       "2                  1            1             P01  \n",
       "3                  0            0             P02  \n",
       "4                  0            5             P02  \n",
       "\n",
       "[5 rows x 83 columns]"
      ]
     },
     "execution_count": 8,
     "metadata": {},
     "output_type": "execute_result"
    }
   ],
   "source": [
    "df.head()"
   ]
  },
  {
   "cell_type": "markdown",
   "metadata": {},
   "source": [
    "## Exploration rapide"
   ]
  },
  {
   "cell_type": "code",
   "execution_count": 9,
   "metadata": {},
   "outputs": [],
   "source": [
    "import matplotlib as plt"
   ]
  },
  {
   "cell_type": "code",
   "execution_count": 11,
   "metadata": {},
   "outputs": [
    {
     "data": {
      "text/plain": [
       "<Axes: xlabel='poids', ylabel='tourTaille'>"
      ]
     },
     "execution_count": 11,
     "metadata": {},
     "output_type": "execute_result"
    },
    {
     "data": {
      "image/png": "[encoded data removed]",
      "text/plain": [
       "<Figure size 640x480 with 1 Axes>"
      ]
     },
     "metadata": {},
     "output_type": "display_data"
    }
   ],
   "source": [
    "# Create scatter plot with x and y data from the DataFrame\n",
    "df.plot.scatter(x='poids', y='tourTaille')"
   ]
  },
  {
   "cell_type": "markdown",
   "metadata": {},
   "source": [
    "## Entrainement d'un modele de regression"
   ]
  },
  {
   "cell_type": "code",
   "execution_count": 20,
   "metadata": {},
   "outputs": [],
   "source": [
    "from  sklearn.linear_model import LinearRegression, ElasticNet\n",
    "from sklearn.model_selection import train_test_split\n",
    "from sklearn.metrics import r2_score"
   ]
  },
  {
   "cell_type": "code",
   "execution_count": 28,
   "metadata": {},
   "outputs": [],
   "source": [
    "# set training data\n",
    "X = df[\"poids\"].values.reshape(-1, 1)\n",
    "y = df[\"tourTaille\"].values.reshape(-1, 1)\n",
    "X_train, X_test, y_train, y_test = train_test_split(X, y, test_size=0.4, random_state=0)"
   ]
  },
  {
   "cell_type": "code",
   "execution_count": 26,
   "metadata": {},
   "outputs": [],
   "source": [
    "# fit the model\n",
    "reg = ElasticNet(random_state=0).fit(X_train, y_train)"
   ]
  },
  {
   "cell_type": "code",
   "execution_count": 33,
   "metadata": {},
   "outputs": [
    {
     "name": "stdout",
     "output_type": "stream",
     "text": [
      "Test score - R2: 0.9871493680041147\n"
     ]
    }
   ],
   "source": [
    "# get prediction\n",
    "y_pred = reg.predict(X_test)\n",
    "r2 = r2_score(y_test, y_pred)\n",
    "\n",
    "print(\"Test score - R2:\", r2)"
   ]
  },
  {
   "cell_type": "markdown",
   "metadata": {},
   "source": [
    "## Stocker le modèle dans MLFlow"
   ]
  },
  {
   "cell_type": "code",
   "execution_count": null,
   "metadata": {},
   "outputs": [],
   "source": [
    "%pip install mlflow"
   ]
  },
  {
   "cell_type": "code",
   "execution_count": 32,
   "metadata": {},
   "outputs": [
    {
     "name": "stderr",
     "output_type": "stream",
     "text": [
      "2024/01/08 19:54:25 INFO mlflow.tracking.fluent: Experiment with name 'Regression poids tour de taille Doctolib' does not exist. Creating a new experiment.\n"
     ]
    },
    {
     "name": "stdout",
     "output_type": "stream",
     "text": [
      "set_tracking uri\n",
      "set_experiment\n"
     ]
    },
    {
     "data": {
      "text/plain": [
       "<Experiment: artifact_location='mlflow-artifacts:/122245147476016265', creation_time=1704740065747, experiment_id='122245147476016265', last_update_time=1704740065747, lifecycle_stage='active', name='Regression poids tour de taille Doctolib', tags={}>"
      ]
     },
     "execution_count": 32,
     "metadata": {},
     "output_type": "execute_result"
    }
   ],
   "source": [
    "import mlflow\n",
    "from mlflow.models import infer_signature\n",
    "\n",
    "# set l'uri pour envoyer le modele\n",
    "print(\"set_tracking uri\")\n",
    "mlflow.set_tracking_uri(uri=\"http://127.0.0.1:8080\") # port 8090 en local\n",
    "\n",
    "print(\"set_experiment\")\n",
    "mlflow.set_experiment(\"Regression poids tour de taille Doctolib\")"
   ]
  },
  {
   "cell_type": "code",
   "execution_count": 34,
   "metadata": {},
   "outputs": [
    {
     "name": "stderr",
     "output_type": "stream",
     "text": [
      "Successfully registered model 'ElasticNet_v1'.\n",
      "2024/01/08 19:58:22 INFO mlflow.store.model_registry.abstract_store: Waiting up to 300 seconds for model version to finish creation. Model name: ElasticNet_v1, version 1\n",
      "Created version '1' of model 'ElasticNet_v1'.\n"
     ]
    }
   ],
   "source": [
    "with mlflow.start_run():\n",
    "    # Log the hyperparameters\n",
    "    mlflow.log_params({\"random_state\" : 0})\n",
    "\n",
    "    # Log the loss metric\n",
    "    mlflow.log_metric(\"r2\", r2)\n",
    " \n",
    "    # Set a tag that we can use to remind ourselves what this run was for\n",
    "    mlflow.set_tag(\"Training Info\", \"Our model\")\n",
    "\n",
    "    # Infer the model signature\n",
    "    signature = infer_signature(X_train, reg.predict(X_train))\n",
    "\n",
    "    # Log the model\n",
    "    model_info = mlflow.sklearn.log_model(\n",
    "        sk_model=ElasticNet,\n",
    "        artifact_path=\"meddata\",\n",
    "        signature=signature,\n",
    "        input_example=X_train,\n",
    "        registered_model_name=\"ElasticNet_v1\",\n",
    "    )"
   ]
  }
 ],
 "metadata": {
  "kernelspec": {
   "display_name": "venv",
   "language": "python",
   "name": "python3"
  },
  "language_info": {
   "codemirror_mode": {
    "name": "ipython",
    "version": 3
   },
   "file_extension": ".py",
   "mimetype": "text/x-python",
   "name": "python",
   "nbconvert_exporter": "python",
   "pygments_lexer": "ipython3",
   "version": "3.9.13"
  }
 },
 "nbformat": 4,
 "nbformat_minor": 2
}
